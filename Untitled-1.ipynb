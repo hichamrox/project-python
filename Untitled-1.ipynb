{
 "cells": [
  {
   "cell_type": "code",
   "execution_count": null,
   "metadata": {},
   "outputs": [
    {
     "name": "stdout",
     "output_type": "stream",
     "text": [
      "Colonnes disponibles : Index(['mouse_strain', 'experiment_ID', 'sample_type', 'timepoint', 'mouse_ID',\n",
      "       'treatment', 'frequency_live_bacteria_%', 'experimental_day',\n",
      "       'counts_live_bacteria_per_wet_g', 'mouse_age_days', 'mouse_sex'],\n",
      "      dtype='object')\n",
      "Colonnes après normalisation : Index(['mouse_strain', 'experiment_id', 'sample_type', 'timepoint', 'mouse_id',\n",
      "       'treatment', 'frequency_live_bacteria_%', 'experimental_day',\n",
      "       'counts_live_bacteria_per_wet_g', 'mouse_age_days', 'mouse_sex'],\n",
      "      dtype='object')\n"
     ]
    }
   ],
   "source": [
    "import pandas as pd\n",
    "import matplotlib.pyplot as plt\n",
    "import seaborn as sns\n",
    "import os\n",
    "\n",
    "# Créer les dossiers nécessaires\n",
    "os.makedirs(\"output\", exist_ok=True)\n",
    "os.makedirs(\"images\", exist_ok=True)\n",
    "\n",
    "# Étape 1 : Lire les données avec le bon séparateur\n",
    "data = pd.read_csv(\"input/data_real.csv\", sep=';')\n",
    "\n",
    "# Étape 2 : Vérifiez les colonnes disponibles (pour debug si nécessaire)\n",
    "print(\"Colonnes disponibles :\", data.columns)\n",
    "\n",
    "# Étape 3 : Normalisez les noms de colonnes\n",
    "data.columns = data.columns.str.strip().str.replace(' ', '_').str.lower()\n",
    "\n",
    "# Étape 4 : Vérifiez les colonnes après normalisation (pour debug si nécessaire)\n",
    "print(\"Colonnes après normalisation :\", data.columns)\n",
    "\n",
    "# Étape 5 : Filtrage et traitement\n",
    "if 'sample_type' in data.columns and 'mouse_id' in data.columns and 'counts_live_bacteria_per_wet_g' in data.columns:\n",
    "    # Filtrer les données fécales\n",
    "    fecal_data = data[data['sample_type'] == 'fécal'][['mouse_id', 'treatment', 'experimental_day', 'counts_live_bacteria_per_wet_g']]\n",
    "    fecal_data.to_csv(\"output/fecal_data.csv\", index=False)\n",
    "    print(\"Données fécales filtrées avec succès.\")\n",
    "else:\n",
    "    print(\"Erreur : Certaines colonnes nécessaires sont introuvables dans les données.\")\n"
   ]
  }
 ],
 "metadata": {
  "kernelspec": {
   "display_name": "Python 3",
   "language": "python",
   "name": "python3"
  },
  "language_info": {
   "codemirror_mode": {
    "name": "ipython",
    "version": 3
   },
   "file_extension": ".py",
   "mimetype": "text/x-python",
   "name": "python",
   "nbconvert_exporter": "python",
   "pygments_lexer": "ipython3",
   "version": "3.9.6"
  }
 },
 "nbformat": 4,
 "nbformat_minor": 2
}
